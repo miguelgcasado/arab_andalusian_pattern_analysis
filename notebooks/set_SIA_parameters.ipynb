{
 "cells": [
  {
   "cell_type": "code",
   "execution_count": 1,
   "metadata": {},
   "outputs": [],
   "source": [
    "import os\n",
    "import json\n",
    "from collections import Counter\n",
    "import csv\n",
    "from compmusic import dunya\n",
    "from music21 import*\n",
    "import matplotlib.pyplot as plt\n",
    "import numpy as np\n",
    "dunya.set_token(\"52fc6ac49c0b7fc9644404aaf4f9bc1a7088d69d\")\n",
    "\n",
    "import sys\n",
    "sys.path.append('../src/')\n",
    "import patterns_per_nawba as pn\n",
    "import nawba_centones\n",
    "data_path = '../data'"
   ]
  },
  {
   "cell_type": "code",
   "execution_count": 2,
   "metadata": {},
   "outputs": [
    {
     "ename": "TypeError",
     "evalue": "mbids_per_tab() missing 1 required positional argument: 'andalusian_description'",
     "output_type": "error",
     "traceback": [
      "\u001b[0;31m---------------------------------------------------------------------------\u001b[0m",
      "\u001b[0;31mTypeError\u001b[0m                                 Traceback (most recent call last)",
      "\u001b[0;32m<ipython-input-2-d3a842cccdd7>\u001b[0m in \u001b[0;36m<module>\u001b[0;34m()\u001b[0m\n\u001b[1;32m      3\u001b[0m \u001b[0;31m# Nawba Mappings to tabs\u001b[0m\u001b[0;34m\u001b[0m\u001b[0;34m\u001b[0m\u001b[0;34m\u001b[0m\u001b[0m\n\u001b[1;32m      4\u001b[0m \u001b[0mnawba_tabs\u001b[0m \u001b[0;34m=\u001b[0m \u001b[0mnawba_centones\u001b[0m\u001b[0;34m.\u001b[0m\u001b[0mload_and_parse_nawba_tabs\u001b[0m\u001b[0;34m(\u001b[0m\u001b[0mos\u001b[0m\u001b[0;34m.\u001b[0m\u001b[0mpath\u001b[0m\u001b[0;34m.\u001b[0m\u001b[0mjoin\u001b[0m\u001b[0;34m(\u001b[0m\u001b[0mdata_path\u001b[0m\u001b[0;34m,\u001b[0m \u001b[0;34m'nawba_tabs.json'\u001b[0m\u001b[0;34m)\u001b[0m\u001b[0;34m)\u001b[0m\u001b[0;34m\u001b[0m\u001b[0;34m\u001b[0m\u001b[0m\n\u001b[0;32m----> 5\u001b[0;31m \u001b[0mtab_mbid_lookup\u001b[0m \u001b[0;34m=\u001b[0m \u001b[0mpn\u001b[0m\u001b[0;34m.\u001b[0m\u001b[0mmbids_per_tab\u001b[0m\u001b[0;34m(\u001b[0m\u001b[0;34m)\u001b[0m\u001b[0;34m\u001b[0m\u001b[0;34m\u001b[0m\u001b[0m\n\u001b[0m",
      "\u001b[0;31mTypeError\u001b[0m: mbids_per_tab() missing 1 required positional argument: 'andalusian_description'"
     ]
    }
   ],
   "source": [
    "# Nawba Mappings to centones\n",
    "nawba_centones_lookup = nawba_centones.load_and_parse_centones_mapping(os.path.join(data_path, 'centones_nawba.csv'))\n",
    "# Nawba Mappings to tabs\n",
    "nawba_tabs = nawba_centones.load_and_parse_nawba_tabs(os.path.join(data_path, 'nawba_tabs.json'))\n",
    "tab_mbid_lookup = pn.mbids_per_tab()\n"
   ]
  },
  {
   "cell_type": "code",
   "execution_count": 3,
   "metadata": {},
   "outputs": [],
   "source": [
    "# for now we will just work with the scores from al-maya tab\n",
    "scores = tab_mbid_lookup['al-māya']\n",
    "score_annotations_lookup = pn.score_annotations_lookup()"
   ]
  },
  {
   "cell_type": "code",
   "execution_count": 3,
   "metadata": {},
   "outputs": [
    {
     "ename": "NameError",
     "evalue": "name 'get_m21_patterns' is not defined",
     "output_type": "error",
     "traceback": [
      "\u001b[0;31m---------------------------------------------------------------------------\u001b[0m",
      "\u001b[0;31mNameError\u001b[0m                                 Traceback (most recent call last)",
      "\u001b[0;32m<ipython-input-3-c2729446cfe3>\u001b[0m in \u001b[0;36m<module>\u001b[0;34m()\u001b[0m\n\u001b[1;32m      2\u001b[0m \u001b[0mm21patterns\u001b[0m \u001b[0;34m=\u001b[0m \u001b[0;34m{\u001b[0m\u001b[0;34m}\u001b[0m\u001b[0;34m\u001b[0m\u001b[0;34m\u001b[0m\u001b[0m\n\u001b[1;32m      3\u001b[0m \u001b[0mmbid\u001b[0m \u001b[0;34m=\u001b[0m \u001b[0;34m'a451a7fc-c53f-462a-b3fc-4377bb588105'\u001b[0m\u001b[0;34m\u001b[0m\u001b[0;34m\u001b[0m\u001b[0m\n\u001b[0;32m----> 4\u001b[0;31m \u001b[0mm21patterns\u001b[0m \u001b[0;34m=\u001b[0m \u001b[0mget_m21_patterns\u001b[0m\u001b[0;34m(\u001b[0m\u001b[0mfile_path\u001b[0m\u001b[0;34m,\u001b[0m \u001b[0mmbid\u001b[0m\u001b[0;34m)\u001b[0m\u001b[0;34m\u001b[0m\u001b[0;34m\u001b[0m\u001b[0m\n\u001b[0m",
      "\u001b[0;31mNameError\u001b[0m: name 'get_m21_patterns' is not defined"
     ]
    }
   ],
   "source": [
    "file_path = '/home/miguelgc96/Desktop/a451a7fc-c53f-462a-b3fc-4377bb588105.json'\n",
    "m21patterns = {}\n",
    "mbid = 'a451a7fc-c53f-462a-b3fc-4377bb588105'\n",
    "m21patterns = get_m21_patterns(file_path, mbid)"
   ]
  },
  {
   "cell_type": "code",
   "execution_count": 39,
   "metadata": {},
   "outputs": [],
   "source": [
    "# Execute this if you want to filter the SIA patterns by a maximum length:\n",
    "for attempt in m21patterns:\n",
    "    \n",
    "    m21patterns[attempt] = [p for p in m21patterns[attempt] if len(p)<10]"
   ]
  },
  {
   "cell_type": "code",
   "execution_count": 6,
   "metadata": {},
   "outputs": [],
   "source": [
    "# Count if a pattern contains a centos\n",
    "cont = 0\n",
    "for pattern in m21patterns['SiaTonic1']:\n",
    "    for cento in nawba_centones_lookup[nawba]:\n",
    "        if cento in pattern:\n",
    "            cont +=1\n",
    "coef = cont/len(m21patterns['SiaTonic1'])"
   ]
  },
  {
   "cell_type": "code",
   "execution_count": 36,
   "metadata": {},
   "outputs": [
    {
     "name": "stdout",
     "output_type": "stream",
     "text": [
      "(minCompactness = 0.95 , minDensity = 0) //  CENTOS_ACCURACY = 0.5425531914893617\n",
      "(minCompactness = 0.4 , minDensity = 0) //  CENTOS_ACCURACY = 0.2629187961385576\n",
      "(minCompactness = 0.7 , minDensity = 0) //  CENTOS_ACCURACY = 0.342685370741483\n",
      "(minCompactness = 0.6 , minDensity = 0) //  CENTOS_ACCURACY = 0.30288461538461536\n",
      "(minCompactness = 0.8 , minDensity = 0) //  CENTOS_ACCURACY = 0.4701195219123506\n",
      "(minCompactness = 0.75 , minDensity = 0) //  CENTOS_ACCURACY = 0.35714285714285715\n",
      "(minCompactness = 0.9 , minDensity = 0) //  CENTOS_ACCURACY = 0.5425531914893617\n",
      "(minCompactness = 0.85 , minDensity = 0) //  CENTOS_ACCURACY = 0.5425531914893617\n"
     ]
    }
   ],
   "source": [
    "# count if a pattern contains a centos (only 1)\n",
    "parameters = [[0.95, 0], [0.4, 0], [0.7, 0], [0.6, 0], [0.8, 0], [0.75, 0], [0.9, 0], [0.85, 0]]\n",
    "cont2 = 0\n",
    "for attempt in m21patterns:\n",
    "    len_all_patterns_attempt = 0\n",
    "    cont = 0\n",
    "    for idx in m21patterns[attempt]:\n",
    "        all_patterns = [item for sublist in m21patterns[attempt][idx] for item in sublist]\n",
    "        #x = [pattern.quarterLength for pattern in all_patterns]\n",
    "        #print(max(x))\n",
    "        patterns_note_name = [''.join(pn.conv_m21pattern_to_namenote(seg)).replace('rest','s') for seg in all_patterns]\n",
    "        #print(patterns_note_name)\n",
    "        for pattern in patterns_note_name:\n",
    "            i = 0\n",
    "            while i < (len(nawba_centones_lookup[nawba])):\n",
    "                if nawba_centones_lookup[nawba][i] in pattern:\n",
    "                    cont +=1\n",
    "                    break\n",
    "                i += 1\n",
    "        len_all_patterns_attempt += len(patterns_note_name)\n",
    "\n",
    "    coef = cont/len_all_patterns_attempt\n",
    "    print('(minCompactness = ' + str(parameters[cont2][0]) + ' , minDensity = ' + str(parameters[cont2][1]) + ') //  CENTOS_ACCURACY = {}'.format(coef))\n",
    "    cont2 += 1"
   ]
  }
 ],
 "metadata": {
  "kernelspec": {
   "display_name": "Python 3",
   "language": "python",
   "name": "python3"
  },
  "language_info": {
   "codemirror_mode": {
    "name": "ipython",
    "version": 3
   },
   "file_extension": ".py",
   "mimetype": "text/x-python",
   "name": "python",
   "nbconvert_exporter": "python",
   "pygments_lexer": "ipython3",
   "version": "3.6.7"
  }
 },
 "nbformat": 4,
 "nbformat_minor": 2
}
